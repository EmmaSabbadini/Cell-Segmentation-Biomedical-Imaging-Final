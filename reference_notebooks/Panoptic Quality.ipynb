{
 "cells": [
  {
   "cell_type": "markdown",
   "metadata": {},
   "source": [
    "# Script to compute Panoptic Quality (PQ) metric for each image and to store results in an excel file\n",
    "\n",
    "\n",
    "# Created by Ruchika Verma\n",
    "\n",
    "This code will generate an excel file with image names in rows and respective PQ metrics in column 1\n",
    "\n",
    "Note: This code will work if n-ary masks are stored in both ground truth and predicted path.\n",
    "\n",
    "The format to save predicted masks is given below :\n",
    "\n",
    "Folder -> Patient name\n",
    "\n",
    "Sub-folder -> Sub-images under each patient\n",
    "\n",
    "Sub-Sub-folder -> Annotated cell-type on each sub-image which contains n-ary masks\n",
    "\n",
    "Please run n-ary mask generation code from the link below to see format to save ground truth and predicted masks\n",
    "https://github.com/ruchikaverma-iitg/MoNuSAC/blob/master/n-ary_mask_generation.ipynb\n",
    "\n",
    "# Input\n",
    "ground_truth_path: #Ground truth path to read data from\n",
    "\n",
    "Predicted_path: #Path to read predicted outcomes from\n",
    "\n",
    "\n",
    "# Output\n",
    "An excel file with name 'PQ_metric.xls' will store on the given ground_truth_path\n",
    "\n",
    "# Reference\n",
    "Panoptic Segmentation\n",
    "Alexander Kirillov, Kaiming He, Ross Girshick, Carsten Rother and Piotr Dollár\n",
    "arXiv:1801.00868, 2018."
   ]
  },
  {
   "cell_type": "code",
   "execution_count": 1,
   "metadata": {},
   "outputs": [],
   "source": [
    "import os\n",
    "import numpy as np\n",
    "import glob\n",
    "import cv2\n",
    "import scipy.io as sio\n",
    "from PIL import Image\n",
    "import scipy\n",
    "import scipy.ndimage\n",
    "import xlwt \n",
    "from xlwt import Workbook "
   ]
  },
  {
   "cell_type": "code",
   "execution_count": 2,
   "metadata": {},
   "outputs": [],
   "source": [
    "# Compute Panoptic quality metric for each image\n",
    "def Panoptic_quality(ground_truth_image,predicted_image):\n",
    "    TP = 0\n",
    "    FP = 0\n",
    "    FN = 0\n",
    "    sum_IOU = 0\n",
    "    matched_instances = {}# Create a dictionary to save ground truth indices in keys and predicted matched instances as velues\n",
    "                        # It will also save IOU of the matched instance in [indx][1]\n",
    "\n",
    "    # Find matched instances and save it in a dictionary\n",
    "    for i in np.unique(ground_truth_image):\n",
    "        if i == 0:\n",
    "            pass\n",
    "        else:\n",
    "            temp_image = np.array(ground_truth_image)\n",
    "            temp_image = temp_image == i\n",
    "            matched_image = temp_image * predicted_image\n",
    "        \n",
    "            for j in np.unique(matched_image):\n",
    "                if j == 0:\n",
    "                    pass\n",
    "                else:\n",
    "                    pred_temp = predicted_image == j\n",
    "                    intersection = sum(sum(temp_image*pred_temp))\n",
    "                    union = sum(sum(temp_image + pred_temp))\n",
    "                    IOU = intersection/union\n",
    "                    if IOU> 0.5:\n",
    "                        matched_instances [i] = j, IOU \n",
    "                        \n",
    "    # Compute TP, FP, FN and sum of IOU of the matched instances to compute Panoptic Quality               \n",
    "                        \n",
    "    pred_indx_list = np.unique(predicted_image)\n",
    "    pred_indx_list = np.array(pred_indx_list[1:])\n",
    "\n",
    "    # Loop on ground truth instances\n",
    "    for indx in np.unique(ground_truth_image):\n",
    "        if indx == 0:\n",
    "            pass\n",
    "        else:\n",
    "            if indx in matched_instances.keys():\n",
    "                pred_indx_list = np.delete(pred_indx_list, np.argwhere(pred_indx_list == [indx][0]))\n",
    "                TP = TP+1\n",
    "                sum_IOU = sum_IOU+matched_instances[indx][1]\n",
    "            else:\n",
    "                FN = FN+1\n",
    "    FP = len(np.unique(pred_indx_list))\n",
    "    PQ = sum_IOU/(TP+0.5*FP+0.5*FN)\n",
    "    \n",
    "    return PQ"
   ]
  },
  {
   "cell_type": "code",
   "execution_count": 3,
   "metadata": {},
   "outputs": [],
   "source": [
    "ground_truth_path = 'D:\\MoNuSAC_ground_truth_masks' #Ground truth path to read data from\n",
    "Predicted_path = 'D:\\MoNuSAC_predicted_masks' #Path to read predicted outcomes from\n",
    "\n",
    "import os\n",
    "os.chdir(ground_truth_path)"
   ]
  },
  {
   "cell_type": "code",
   "execution_count": 4,
   "metadata": {},
   "outputs": [],
   "source": [
    "files=glob.glob('./**/**/**/*.tif')"
   ]
  },
  {
   "cell_type": "code",
   "execution_count": 5,
   "metadata": {},
   "outputs": [
    {
     "name": "stdout",
     "output_type": "stream",
     "text": [
      ".\\TCGA-55-1594-01Z-00-DX1\\TCGA-55-1594-01Z-00-DX1_001\\Epithelial\\1_mask.tif\n",
      "0.88\n",
      ".\\TCGA-86-7713-01Z-00-DX1\\TCGA-86-7713-01Z-00-DX1_004\\Epithelial\\109_mask.tif\n",
      "0.66\n",
      ".\\TCGA-86-7713-01Z-00-DX1\\TCGA-86-7713-01Z-00-DX1_004\\Lymphocyte\\110_mask.tif\n",
      "0.71\n",
      ".\\TCGA-86-8672-01Z-00-DX1\\TCGA-86-8672-01Z-00-DX1_1\\Lymphocyte\\114_mask.tif\n",
      "1.0\n"
     ]
    }
   ],
   "source": [
    "# Workbook is created \n",
    "wb = Workbook() \n",
    "\n",
    "ccbt = wb.add_sheet('PQ metric') \n",
    "ccbt.write(0, 0, 'Patient ID')\n",
    "ccbt.write(0, 1, 'Panoptic Quality')\n",
    "\n",
    "for image_count,filei in enumerate(files):\n",
    "    print(filei)\n",
    "    ground_truth_image = np.array(Image.open(filei))\n",
    "    predicted_image = np.array(Image.open(Predicted_path+filei))\n",
    "    PQ = Panoptic_quality(ground_truth_image,predicted_image)\n",
    "    ccbt.write(image_count+1,0, filei)#Add image name in excel file\n",
    "    ccbt.write(image_count+1,1, PQ)\n",
    "\n",
    "    print(PQ)\n",
    "wb.save('PQ_metric.xls')    #Save data in an excel file titled as PQ_metric"
   ]
  }
 ],
 "metadata": {
  "kernelspec": {
   "display_name": "Python 3",
   "language": "python",
   "name": "python3"
  },
  "language_info": {
   "codemirror_mode": {
    "name": "ipython",
    "version": 3
   },
   "file_extension": ".py",
   "mimetype": "text/x-python",
   "name": "python",
   "nbconvert_exporter": "python",
   "pygments_lexer": "ipython3",
   "version": "3.7.0"
  }
 },
 "nbformat": 4,
 "nbformat_minor": 2
}
