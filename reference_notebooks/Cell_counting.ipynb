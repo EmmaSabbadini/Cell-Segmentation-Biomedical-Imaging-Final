{
 "cells": [
  {
   "cell_type": "markdown",
   "metadata": {},
   "source": [
    "# Script to count cells (by type) in each image and to store in an excel file\n",
    "\n",
    "# Created by Ruchika Verma\n",
    "\n",
    "This code will generate an excel file with image name in rows and cell-count in columns\n",
    "\n",
    "# Input\n",
    "data_path: Specify the path of downloaded images\n",
    "\n",
    "# Output\n",
    "An excel file with name 'MoNuSAC-cell-count.xls' will store on the given data_path"
   ]
  },
  {
   "cell_type": "code",
   "execution_count": 1,
   "metadata": {},
   "outputs": [],
   "source": [
    "import os\n",
    "import openslide\n",
    "from xml.dom import minidom\n",
    "import numpy as np\n",
    "import openslide\n",
    "from openslide import open_slide  \n",
    "from glob import glob\n",
    "import cv2\n",
    "import matplotlib.pyplot as plt\n",
    "import scipy.io as sio\n",
    "from PIL import Image\n",
    "import scipy\n",
    "import scipy.ndimage\n",
    "from shapely.geometry import Polygon\n",
    "from skimage import draw\n",
    "import xml.etree.ElementTree as ET\n",
    "import xlwt \n",
    "from xlwt import Workbook  "
   ]
  },
  {
   "cell_type": "code",
   "execution_count": 2,
   "metadata": {},
   "outputs": [
    {
     "data": {
      "text/plain": [
       "15"
      ]
     },
     "execution_count": 2,
     "metadata": {},
     "output_type": "execute_result"
    }
   ],
   "source": [
    "# Read svs files from the desired path\n",
    "count = 0\n",
    "data_path = 'D:\\MoNuSAC_annotations' #Path to read data from\n",
    "os.chdir(data_path)\n",
    "\n",
    "patients = [x[0] for x in os.walk(data_path)]#Total patients in the data_path\n",
    "len(patients)"
   ]
  },
  {
   "cell_type": "code",
   "execution_count": 3,
   "metadata": {},
   "outputs": [],
   "source": [
    "label_map = {'Epithelial':1,\n",
    "             'Lymphocyte':2,\n",
    "             'Macrophage':4,\n",
    "             'Neutrophil':3,\n",
    "            }"
   ]
  },
  {
   "cell_type": "code",
   "execution_count": 4,
   "metadata": {},
   "outputs": [
    {
     "name": "stdout",
     "output_type": "stream",
     "text": [
      "1\n",
      "2\n",
      "3\n",
      "4\n",
      "5\n",
      "6\n",
      "7\n",
      "8\n",
      "9\n",
      "10\n",
      "11\n",
      "12\n",
      "13\n",
      "14\n",
      "15\n",
      "16\n",
      "17\n",
      "18\n",
      "19\n",
      "20\n",
      "21\n",
      "22\n",
      "23\n",
      "24\n",
      "25\n",
      "26\n",
      "27\n",
      "28\n",
      "29\n",
      "30\n",
      "31\n",
      "32\n",
      "33\n",
      "34\n",
      "35\n",
      "36\n",
      "37\n",
      "38\n",
      "39\n",
      "40\n",
      "41\n",
      "42\n",
      "43\n",
      "44\n",
      "45\n",
      "46\n",
      "47\n",
      "48\n",
      "49\n",
      "50\n",
      "51\n",
      "52\n",
      "53\n",
      "54\n",
      "55\n",
      "56\n",
      "57\n"
     ]
    }
   ],
   "source": [
    "image_count = 0\n",
    "\n",
    "# Workbook is created \n",
    "wb = Workbook() \n",
    "\n",
    "# add_sheet is used to create sheet. \n",
    "ccbt = wb.add_sheet('Cell count by type') \n",
    "ccbt.write(0, 1, 'Epithelial') \n",
    "ccbt.write(0, 2, 'Lymphocyte') \n",
    "ccbt.write(0, 3, 'Neutrophil') \n",
    "ccbt.write(0, 4, 'Macrophage') \n",
    "\n",
    "for patient_loc in patients:\n",
    "          \n",
    "    ## Read sub-images of each patient in the data path        \n",
    "    sub_images = glob(patient_loc+'/*.svs')\n",
    "    for sub_image_loc in sub_images:   \n",
    "        image_count = image_count+1\n",
    "        print(image_count)\n",
    "               \n",
    "        image_name = sub_image_loc\n",
    "        ccbt.write(image_count,0, sub_image_loc[len(patient_loc)+1:])#Add image name in excel file\n",
    "        if (image_count > 1):\n",
    "            ccbt.write(image_count-1,1, cell_count[1])\n",
    "            ccbt.write(image_count-1,2, cell_count[2])\n",
    "            ccbt.write(image_count-1,3, cell_count[3])\n",
    "            ccbt.write(image_count-1,4, cell_count[4])\n",
    "        \n",
    "#         Read xml file\n",
    "        xml_file_name  = image_name[:-4]\n",
    "        xml_file_name = xml_file_name+'.xml'\n",
    "        tree = ET.parse(xml_file_name)\n",
    "        root = tree.getroot()\n",
    "        cell_count = [0,0,0,0,0]\n",
    "        \n",
    "        #Generate binary mask for each cell-type                         \n",
    "        for k in range(len(root)):\n",
    "            label = [x.attrib['Name'] for x in root[k][0]]\n",
    "            label = label[0]\n",
    "            \n",
    "            for child in root[k]:\n",
    "                for x in child:\n",
    "                    r = x.tag\n",
    "                    if r == 'Attribute':\n",
    "                        label = x.attrib['Name']   \n",
    "                    \n",
    "                    if r == 'Region':\n",
    "                        cell_count[label_map[label]] = cell_count[label_map[label]]+1\n",
    "                        \n",
    "\n",
    "                        \n",
    "ccbt.write(image_count,1, cell_count[1])\n",
    "ccbt.write(image_count,2, cell_count[2])\n",
    "ccbt.write(image_count,3, cell_count[3])\n",
    "ccbt.write(image_count,4, cell_count[4])                 \n",
    "wb.save('MoNuSAC-cell-count.xls')     "
   ]
  },
  {
   "cell_type": "code",
   "execution_count": null,
   "metadata": {},
   "outputs": [],
   "source": []
  }
 ],
 "metadata": {
  "kernelspec": {
   "display_name": "Python 3",
   "language": "python",
   "name": "python3"
  },
  "language_info": {
   "codemirror_mode": {
    "name": "ipython",
    "version": 3
   },
   "file_extension": ".py",
   "mimetype": "text/x-python",
   "name": "python",
   "nbconvert_exporter": "python",
   "pygments_lexer": "ipython3",
   "version": "3.7.0"
  }
 },
 "nbformat": 4,
 "nbformat_minor": 2
}
