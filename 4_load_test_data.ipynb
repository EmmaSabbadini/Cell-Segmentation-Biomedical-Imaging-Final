{
 "cells": [
  {
   "cell_type": "code",
   "execution_count": 1,
   "metadata": {},
   "outputs": [
    {
     "name": "stdout",
     "output_type": "stream",
     "text": [
      "/home/hasib/hasib/MoNuSAC-ISBI-2020\n",
      "/home/hasib/hasib/MoNuSAC-ISBI-2020/dataset/Testing images/\n"
     ]
    }
   ],
   "source": [
    "import numpy as np\n",
    "import pandas as pd\n",
    "import matplotlib.pyplot as plt\n",
    "import matplotlib.colors\n",
    "import os\n",
    "import skimage.draw\n",
    "import numpy as np\n",
    "from tqdm import tqdm\n",
    "import cv2\n",
    "from glob import glob\n",
    "import warnings\n",
    "import random\n",
    "warnings.filterwarnings('ignore')\n",
    "\n",
    "%matplotlib inline\n",
    "\n",
    "# Helpers\n",
    "\n",
    "def create_directory(directory):\n",
    "    '''\n",
    "    Creates a new folder in the specified directory if the folder doesn't exist.\n",
    "    INPUT\n",
    "        directory: Folder to be created, called as \"folder/\".\n",
    "    OUTPUT\n",
    "        New folder in the current directory.\n",
    "    '''\n",
    "    if not os.path.exists(directory):\n",
    "        os.makedirs(directory)\n",
    "        \n",
    "        \n",
    "        \n",
    "def read_nuclei(path):\n",
    "    \"Read raw data\"\n",
    "\n",
    "    # Load 4-channel image\n",
    "    if len(path) == 0:\n",
    "        return None\n",
    "    \n",
    "    img = skimage.io.imread(path)\n",
    "    \n",
    "    # input image\n",
    "    if len(img.shape) > 2:\n",
    "        img = img[:,:,:3]\n",
    "    # mask\n",
    "    else:\n",
    "        # do nothing\n",
    "        pass\n",
    "        \n",
    "    return img\n",
    "\n",
    "\n",
    "\n",
    "def save_nuclei(path, img):\n",
    "    \"save image\"\n",
    "    skimage.io.imsave(path, img)\n",
    "    \n",
    "    \n",
    "    \n",
    "label_map = {'Epithelial':1,\n",
    "             'Lymphocyte':2,\n",
    "             'Macrophage':4,\n",
    "             'Neutrophil':3,\n",
    "            }\n",
    "\n",
    "\n",
    "# Root directory of the project\n",
    "ROOT_DIR = os.path.abspath(\"./\")\n",
    "print(ROOT_DIR)\n",
    "# Training file directory\n",
    "IMAGES_FOLDER = os.path.join(ROOT_DIR, \"dataset\", \"Testing images/\")\n",
    "print(IMAGES_FOLDER)"
   ]
  },
  {
   "cell_type": "code",
   "execution_count": 2,
   "metadata": {},
   "outputs": [
    {
     "data": {
      "text/plain": [
       "['/home/hasib/hasib/MoNuSAC-ISBI-2020/dataset/Testing images/TCGA-2Z-A9JG-01Z-00-DX1',\n",
       " '/home/hasib/hasib/MoNuSAC-ISBI-2020/dataset/Testing images/TCGA-2Z-A9JN-01Z-00-DX1',\n",
       " '/home/hasib/hasib/MoNuSAC-ISBI-2020/dataset/Testing images/TCGA-49-6743-01Z-00-DX2',\n",
       " '/home/hasib/hasib/MoNuSAC-ISBI-2020/dataset/Testing images/TCGA-50-6591-01Z-00-DX1',\n",
       " '/home/hasib/hasib/MoNuSAC-ISBI-2020/dataset/Testing images/TCGA-55-7570-01Z-00-DX1']"
      ]
     },
     "execution_count": 2,
     "metadata": {},
     "output_type": "execute_result"
    }
   ],
   "source": [
    "IMAGES_SUB_FOLDER = [os.path.join(IMAGES_FOLDER, i) for i in sorted(next(os.walk(IMAGES_FOLDER))[1])]\n",
    "IMAGES_SUB_FOLDER[:5]"
   ]
  },
  {
   "cell_type": "code",
   "execution_count": null,
   "metadata": {},
   "outputs": [],
   "source": []
  },
  {
   "cell_type": "code",
   "execution_count": 3,
   "metadata": {},
   "outputs": [
    {
     "data": {
      "text/plain": [
       "'/home/hasib/hasib/MoNuSAC-ISBI-2020/dataset/test_images'"
      ]
     },
     "execution_count": 3,
     "metadata": {},
     "output_type": "execute_result"
    }
   ],
   "source": [
    "IMAGES_DEST =  os.path.join(ROOT_DIR, \"dataset\", \"test_images\")\n",
    "IMAGES_DEST"
   ]
  },
  {
   "cell_type": "code",
   "execution_count": 4,
   "metadata": {},
   "outputs": [],
   "source": [
    "# Create folders\n",
    "create_directory(IMAGES_DEST)"
   ]
  },
  {
   "cell_type": "code",
   "execution_count": 30,
   "metadata": {},
   "outputs": [
    {
     "name": "stderr",
     "output_type": "stream",
     "text": [
      "100%|██████████| 25/25 [00:15<00:00,  1.60it/s]\n"
     ]
    }
   ],
   "source": [
    "# STORE IMAGES in test folder together\n",
    "\n",
    "raw_ct = 0\n",
    "for ct in tqdm(range(len(IMAGES_SUB_FOLDER[:]))):\n",
    "    \n",
    "    #print(ct)\n",
    "    \n",
    "    # Read all raw images in image sub folder\n",
    "    all_imgs = sorted(glob(IMAGES_SUB_FOLDER[ct] + '/*.tif'))\n",
    "    \n",
    "    paths = [s.split('.')[0][-25:] for s in all_imgs]\n",
    "    \n",
    "    \n",
    "    # Iterate over the individual raw images\n",
    "    for i in range(len(all_imgs)):\n",
    "        \n",
    "        # Read test image\n",
    "        #print(all_imgs[i])\n",
    "        img = read_nuclei(all_imgs[i])\n",
    "\n",
    "        # Save it\n",
    "        save_nuclei(IMAGES_DEST+ \"/{}.png\".format(paths[i]), img)\n",
    "        raw_ct+=1"
   ]
  },
  {
   "cell_type": "code",
   "execution_count": 31,
   "metadata": {},
   "outputs": [
    {
     "data": {
      "text/plain": [
       "['GA-49-6743-01Z-00-DX2_001.png',\n",
       " 'GA-49-6743-01Z-00-DX2_002.png',\n",
       " 'GA-49-6743-01Z-00-DX2_003.png']"
      ]
     },
     "execution_count": 31,
     "metadata": {},
     "output_type": "execute_result"
    }
   ],
   "source": [
    "image_fns = sorted(next(os.walk(IMAGES_DEST))[2])\n",
    "image_fns[:3]"
   ]
  },
  {
   "cell_type": "markdown",
   "metadata": {},
   "source": [
    "### Get data stats"
   ]
  },
  {
   "cell_type": "code",
   "execution_count": 32,
   "metadata": {},
   "outputs": [
    {
     "name": "stdout",
     "output_type": "stream",
     "text": [
      "(55,) (55,)\n"
     ]
    }
   ],
   "source": [
    "w = []\n",
    "h = []\n",
    "\n",
    "for i in range(len(IMAGES_DEST)):\n",
    "    image = skimage.io.imread(os.path.join(IMAGES_DEST, image_fns[i]))\n",
    "    w.append(image.shape[1])\n",
    "    h.append(image.shape[0])\n",
    "    \n",
    "w = np.array(w)\n",
    "h = np.array(h)\n",
    "\n",
    "print(w.shape, h.shape)"
   ]
  },
  {
   "cell_type": "code",
   "execution_count": 33,
   "metadata": {},
   "outputs": [
    {
     "data": {
      "text/plain": [
       "(607.6363636363636, 534.3626403529337)"
      ]
     },
     "execution_count": 33,
     "metadata": {},
     "output_type": "execute_result"
    }
   ],
   "source": [
    "# Mean of hieght\n",
    "np.mean(h), np.std(h)"
   ]
  },
  {
   "cell_type": "code",
   "execution_count": 34,
   "metadata": {},
   "outputs": [
    {
     "data": {
      "text/plain": [
       "(569.4727272727273, 401.6142814621763)"
      ]
     },
     "execution_count": 34,
     "metadata": {},
     "output_type": "execute_result"
    }
   ],
   "source": [
    "# Mean of hieght\n",
    "np.mean(w), np.std(w)"
   ]
  },
  {
   "cell_type": "code",
   "execution_count": 35,
   "metadata": {},
   "outputs": [
    {
     "data": {
      "text/plain": [
       "(2500, 82)"
      ]
     },
     "execution_count": 35,
     "metadata": {},
     "output_type": "execute_result"
    }
   ],
   "source": [
    "np.max(h), np.min(h)"
   ]
  },
  {
   "cell_type": "code",
   "execution_count": 36,
   "metadata": {},
   "outputs": [
    {
     "data": {
      "text/plain": [
       "(1987, 35)"
      ]
     },
     "execution_count": 36,
     "metadata": {},
     "output_type": "execute_result"
    }
   ],
   "source": [
    "np.max(w), np.min(w)"
   ]
  }
 ],
 "metadata": {
  "kernelspec": {
   "display_name": "Python 3",
   "language": "python",
   "name": "python3"
  },
  "language_info": {
   "codemirror_mode": {
    "name": "ipython",
    "version": 3
   },
   "file_extension": ".py",
   "mimetype": "text/x-python",
   "name": "python",
   "nbconvert_exporter": "python",
   "pygments_lexer": "ipython3",
   "version": "3.6.9"
  }
 },
 "nbformat": 4,
 "nbformat_minor": 4
}
