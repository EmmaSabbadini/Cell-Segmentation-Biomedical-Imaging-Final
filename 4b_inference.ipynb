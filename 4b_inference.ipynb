{
 "cells": [
  {
   "cell_type": "markdown",
   "metadata": {},
   "source": [
    "### Save final predictions in required format"
   ]
  },
  {
   "cell_type": "code",
   "execution_count": null,
   "metadata": {},
   "outputs": [],
   "source": [
    "#!pip install -U --pre segmentation-models --user "
   ]
  },
  {
   "cell_type": "code",
   "execution_count": 1,
   "metadata": {
    "colab": {
     "base_uri": "https://localhost:8080/",
     "height": 52
    },
    "colab_type": "code",
    "executionInfo": {
     "elapsed": 883,
     "status": "ok",
     "timestamp": 1578784778530,
     "user": {
      "displayName": "Md Hasib Zunair 1320262643",
      "photoUrl": "",
      "userId": "12069756592370329757"
     },
     "user_tz": 300
    },
    "id": "PqrxTSb8pEXX",
    "outputId": "28b38dc5-4bdd-45f8-af78-6f324c136b15"
   },
   "outputs": [
    {
     "name": "stderr",
     "output_type": "stream",
     "text": [
      "Using TensorFlow backend.\n"
     ]
    }
   ],
   "source": [
    "# Import libs\n",
    "import os \n",
    "import time\n",
    "import cv2\n",
    "from tqdm import tqdm\n",
    "import numpy as np\n",
    "#import skimage.draw\n",
    "from skimage import io\n",
    "import random\n",
    "import keras\n",
    "import cv2\n",
    "from glob import glob\n",
    "import warnings\n",
    "import random\n",
    "import scipy.io as sio\n",
    "import matplotlib.pyplot as plt\n",
    "import matplotlib.colors\n",
    "from skimage.transform import resize\n",
    "import efficientnet.tfkeras\n",
    "from tensorflow.keras.models import load_model\n",
    "\n",
    "warnings.filterwarnings('ignore')\n",
    "\n",
    "# Helper for dirtectory creation\n",
    "def create_directory(directory):\n",
    "    '''\n",
    "    Creates a new folder in the specified directory if the folder doesn't exist.\n",
    "    INPUT\n",
    "        directory: Folder to be created, called as \"folder/\".\n",
    "    OUTPUT\n",
    "        New folder in the current directory.\n",
    "    '''\n",
    "    if not os.path.exists(directory):\n",
    "        os.makedirs(directory)\n",
    "\n",
    "        \n",
    "# Name experiment\n",
    "experiment_name = \"exp-1\"\n",
    "        \n",
    "    \n",
    "# Root directory of the project\n",
    "ROOT_DIR = os.path.abspath(\".\")\n",
    "\n",
    "# Model path\n",
    "log_path = os.path.join(ROOT_DIR, \"logs\", experiment_name)\n",
    "\n",
    "# Test file directory\n",
    "IMAGES_FOLDER = os.path.join(ROOT_DIR, \"dataset\", \"Testing images/\")\n",
    "\n",
    "# Target destination for storing the prediction masks\n",
    "PRED_DEST =  os.path.join(ROOT_DIR, \"dataset\", \"the_great_backpropagator_MoNuSAC_test_results\")\n",
    "\n",
    "# Create folder prediction parent folder\n",
    "create_directory(PRED_DEST)"
   ]
  },
  {
   "cell_type": "markdown",
   "metadata": {},
   "source": [
    "### Load the model"
   ]
  },
  {
   "cell_type": "code",
   "execution_count": 2,
   "metadata": {},
   "outputs": [],
   "source": [
    "model = None\n",
    "model = load_model('{}/{}.h5'.format(log_path, experiment_name), compile=False)\n",
    "#model.summary()"
   ]
  },
  {
   "cell_type": "markdown",
   "metadata": {},
   "source": [
    "## Helper functions"
   ]
  },
  {
   "cell_type": "code",
   "execution_count": 3,
   "metadata": {},
   "outputs": [],
   "source": [
    "def pad(img, pad_size=96):\n",
    "    \"\"\"\n",
    "    Load image from a given path and pad it on the sides, so that eash side is divisible by 96 (network requirement)\n",
    "    if pad = True:\n",
    "        returns image as numpy.array, tuple with padding in pixels as(x_min_pad, y_min_pad, x_max_pad, y_max_pad)\n",
    "    else:\n",
    "        returns image as numpy.array\n",
    "    \"\"\"\n",
    "\n",
    "    if pad_size == 0:\n",
    "        return img\n",
    "\n",
    "    height, width = img.shape[:2]\n",
    "\n",
    "    if height % pad_size == 0:\n",
    "        y_min_pad = 0\n",
    "        y_max_pad = 0\n",
    "    else:\n",
    "        y_pad = pad_size - height % pad_size\n",
    "        y_min_pad = int(y_pad / 2)\n",
    "        y_max_pad = y_pad - y_min_pad\n",
    "\n",
    "    if width % pad_size == 0:\n",
    "        x_min_pad = 0\n",
    "        x_max_pad = 0\n",
    "    else:\n",
    "        x_pad = pad_size - width % pad_size\n",
    "        x_min_pad = int(x_pad / 2)\n",
    "        x_max_pad = x_pad - x_min_pad\n",
    "\n",
    "    img = cv2.copyMakeBorder(img, y_min_pad, y_max_pad, x_min_pad, x_max_pad, cv2.BORDER_REFLECT_101)\n",
    "\n",
    "    return img, (x_min_pad, y_min_pad, x_max_pad, y_max_pad)\n",
    "\n",
    "\n",
    "\n",
    "def unpad(img, pads):\n",
    "    \"\"\"\n",
    "    img: numpy array of the shape (height, width)\n",
    "    pads: (x_min_pad, y_min_pad, x_max_pad, y_max_pad)\n",
    "    @return padded image\n",
    "    \"\"\"\n",
    "    (x_min_pad, y_min_pad, x_max_pad, y_max_pad) = pads\n",
    "    height, width = img.shape[:2]\n",
    "\n",
    "    return img[y_min_pad:height - y_max_pad, x_min_pad:width - x_max_pad]\n",
    "\n",
    "\n",
    "\n",
    "def read_nuclei(path):\n",
    "    \"read raw data\"\n",
    "\n",
    "    # Load 4-channel image\n",
    "    img = io.imread(path)\n",
    "    \n",
    "    # input image\n",
    "    if len(img.shape) > 2:\n",
    "        img = img[:,:,:3]\n",
    "    # mask\n",
    "    else:\n",
    "        # do nothing\n",
    "        pass\n",
    "        \n",
    "    return img\n",
    "\n",
    "\n",
    "\n",
    "def save_nuclei(path, img):\n",
    "    \"save image\"\n",
    "    skimage.io.imsave(path, img)\n",
    "\n",
    "    \n",
    "def sliding_window(image, step, window):\n",
    "    x_loc = []\n",
    "    y_loc = []\n",
    "    cells = []\n",
    "    \n",
    "    for y in range(0, image.shape[0], step):\n",
    "        for x in range(0, image.shape[1], step):\n",
    "            cells.append(image[y:y + window[1], x:x + window[0]])\n",
    "            x_loc.append(x)\n",
    "            y_loc.append(y)\n",
    "    return x_loc, y_loc, cells\n",
    "\n",
    "\n",
    "def extract_patches(image, step, patch_size):\n",
    "    \n",
    "    patches = []\n",
    "    \n",
    "    # Get locations\n",
    "    x_pos, y_pos, cells = sliding_window(image, step, (patch_size[0], patch_size[1]))\n",
    "\n",
    "    for (x, y, cell) in zip(x_pos, y_pos, cells):\n",
    "\n",
    "        # Get patch\n",
    "        patch = image[y:y + patch_size[0], x:x + patch_size[0]]\n",
    "\n",
    "        # Get size\n",
    "        raw_dim = (patch.shape[1], patch.shape[0]) # W, H\n",
    "        #print(raw_dim)\n",
    "        #print(patch.shape)\n",
    "\n",
    "\n",
    "        if raw_dim != (patch_size[0], patch_size[1]):\n",
    "\n",
    "            # Resize to 64x64\n",
    "            #patch = cv2.resize(patch, (64, 64), interpolation = cv2.INTER_AREA)\n",
    "            patch, pad_locs = pad(patch, pad_size=patch_size[0])\n",
    "            \n",
    "            \n",
    "            # Do stuffffff\n",
    "            patches.append(patch)\n",
    "        \n",
    "        else:\n",
    "\n",
    "            # Do stuffffff\n",
    "            patches.append(patch)\n",
    "    \n",
    "    patches = np.array(patches)\n",
    "    \n",
    "    return patches\n",
    "    \n",
    "    \n",
    "    \n",
    "    \n",
    "# Compute Panoptic quality metric for each image\n",
    "def Panoptic_quality(ground_truth_image,predicted_image):\n",
    "    TP = 0\n",
    "    FP = 0\n",
    "    FN = 0\n",
    "    sum_IOU = 0\n",
    "    matched_instances = {}# Create a dictionary to save ground truth indices in keys and predicted matched instances as velues\n",
    "                        # It will also save IOU of the matched instance in [indx][1]\n",
    "\n",
    "    # Find matched instances and save it in a dictionary\n",
    "    for i in np.unique(ground_truth_image):\n",
    "        if i == 0:\n",
    "            pass\n",
    "        else:\n",
    "            temp_image = np.array(ground_truth_image)\n",
    "            temp_image = temp_image == i\n",
    "            matched_image = temp_image * predicted_image\n",
    "        \n",
    "            for j in np.unique(matched_image):\n",
    "                if j == 0:\n",
    "                    pass\n",
    "                else:\n",
    "                    pred_temp = predicted_image == j\n",
    "                    intersection = sum(sum(temp_image*pred_temp))\n",
    "                    union = sum(sum(temp_image + pred_temp))\n",
    "                    IOU = intersection/union\n",
    "                    if IOU> 0.5:\n",
    "                        matched_instances [i] = j, IOU \n",
    "                        \n",
    "    # Compute TP, FP, FN and sum of IOU of the matched instances to compute Panoptic Quality               \n",
    "                        \n",
    "    pred_indx_list = np.unique(predicted_image)\n",
    "    pred_indx_list = np.array(pred_indx_list[1:])\n",
    "\n",
    "    # Loop on ground truth instances\n",
    "    for indx in np.unique(ground_truth_image):\n",
    "        if indx == 0:\n",
    "            pass\n",
    "        else:\n",
    "            if indx in matched_instances.keys():\n",
    "                pred_indx_list = np.delete(pred_indx_list, np.argwhere(pred_indx_list == [indx][0]))\n",
    "                TP = TP+1\n",
    "                sum_IOU = sum_IOU+matched_instances[indx][1]\n",
    "            else:\n",
    "                FN = FN+1\n",
    "    FP = len(np.unique(pred_indx_list))\n",
    "    PQ = sum_IOU/(TP+0.5*FP+0.5*FN)\n",
    "    \n",
    "    return PQ"
   ]
  },
  {
   "cell_type": "code",
   "execution_count": 4,
   "metadata": {},
   "outputs": [],
   "source": [
    "import numpy as np\n",
    "from skimage.transform import resize\n",
    "\n",
    "# Helper function for data visualization\n",
    "def visualize(**images):\n",
    "    \"\"\"Plot images in one row.\"\"\"\n",
    "    \n",
    "    norm=plt.Normalize(0,4) # 5 classes including BG\n",
    "    map_name = matplotlib.colors.LinearSegmentedColormap.from_list(\"\", [\"black\", \"red\",\"yellow\",\"blue\", \"green\"])\n",
    "\n",
    "    \n",
    "    n = len(images)\n",
    "    plt.figure(figsize=(18, 16))\n",
    "    for i, (name, image) in enumerate(images.items()):\n",
    "        plt.subplot(1, n, i + 1)\n",
    "        plt.xticks([])\n",
    "        plt.yticks([])\n",
    "        plt.title(' '.join(name.split('_')).title())\n",
    "        plt.imshow(image, cmap=map_name, norm=norm)\n",
    "    plt.show()\n",
    "    \n",
    "    \n",
    "    \n",
    "def prep(img):\n",
    "    img = img.astype('float32')\n",
    "    img = (img > 0.5).astype(np.uint8)  # threshold\n",
    "    img = resize(img, (image_cols, image_rows), preserve_range=True)\n",
    "    return img\n",
    "\n",
    "\n",
    "\n",
    "\n",
    "def visualize_results(image, mask):\n",
    "    \n",
    "    f, axarr = plt.subplots(1,2, figsize=(16, 16))\n",
    "    \n",
    "    norm=plt.Normalize(0,4) # 5 classes including BG\n",
    "    map_name = matplotlib.colors.LinearSegmentedColormap.from_list(\"\", [\"black\", \"red\",\"yellow\",\"blue\", \"green\"])\n",
    "\n",
    "    axarr[0].imshow(image)\n",
    "    axarr[1].imshow(mask, cmap=map_name, norm=norm)\n",
    "\n",
    "\n",
    "    \n",
    "def vis_gray(image, mask):\n",
    "    \n",
    "    f, axarr = plt.subplots(1,2, figsize=(16, 16))\n",
    "    \n",
    "    axarr[0].imshow(image)\n",
    "    axarr[1].imshow(mask, cmap='gray')\n",
    "\n",
    "\n",
    "\n",
    "def predict(im):\n",
    "    \"\"\"Predict on patch\"\"\"\n",
    "    \n",
    "    im = np.expand_dims(im, axis=0)\n",
    "    \n",
    "    im = model.predict(im)\n",
    "    im = np.argmax(im.squeeze(), axis=-1)\n",
    " \n",
    "    #assert im.shape == (96, 96), \"Wrong shape, {}!\".format(im.shape)\n",
    "    \n",
    "    return im\n",
    "\n",
    "\n",
    "\n",
    "def whole_slide_predict(whole_image):\n",
    "    \n",
    "    #import pdb; pdb.set_trace()\n",
    "    \n",
    "    # If input image less than patch, infer on whole image\n",
    "    if whole_image.shape[0] < 96 or whole_image.shape[1] < 96:\n",
    "        \n",
    "        # Get size\n",
    "        raw_dim = (whole_image.shape[1], whole_image.shape[0]) # W, H\n",
    "        \n",
    "        # Resize to 64x64 for prediction\n",
    "        #whole_image_rs = cv2.resize(whole_image, (64, 64), interpolation = cv2.INTER_AREA)\n",
    "        whole_image_rs, pad_locs = pad(whole_image, pad_size=96)\n",
    "        \n",
    "        \n",
    "        # Infer\n",
    "        pred = predict(whole_image_rs)\n",
    "        \n",
    "        \n",
    "        # Resize back to original shape\n",
    "        #pred = cv2.resize(pred, raw_dim, interpolation = cv2.INTER_AREA)\n",
    "        pred = unpad(pred, pad_locs)\n",
    "        \n",
    "        # Change dtype for resizing back to original shape\n",
    "        pred = pred.astype(np.uint8)\n",
    "        \n",
    "      \n",
    "    else:\n",
    "        \n",
    "        # Get patch locations\n",
    "        x_pos, y_pos, cells = sliding_window(whole_image, 96, (96, 96)) \n",
    "\n",
    "        # Array for storing predictions\n",
    "        pred = np.zeros((whole_image.shape[0], whole_image.shape[1])).astype(np.uint8)\n",
    "\n",
    "        # Slide over each patch\n",
    "        for (x, y, cell) in zip(x_pos, y_pos, cells):\n",
    "\n",
    "            # Get patch\n",
    "            patch = whole_image[y:y + 96, x:x + 96]\n",
    "\n",
    "            # Get size\n",
    "            raw_dim = (patch.shape[1], patch.shape[0]) # W, H\n",
    "\n",
    "            # If less than patch size, resize and then run prediction\n",
    "            if raw_dim != (96, 96):\n",
    "\n",
    "\n",
    "                # Resize to 64x64\n",
    "                #patch_rs = cv2.resize(patch, (64, 64), interpolation = cv2.INTER_AREA)\n",
    "                patch_rs, pad_locs = pad(patch, pad_size=96)\n",
    "                \n",
    "                #print(patch.dtype, processed.dtype)\n",
    "                \n",
    "                assert patch.dtype == patch_rs.dtype, \"Wrong data type after resizing!\"\n",
    "\n",
    "                \n",
    "                # Infer\n",
    "                processed = predict(patch_rs)\n",
    "                \n",
    "                # Resize back to original shape\n",
    "                #processed = cv2.resize(processed, raw_dim, interpolation = cv2.INTER_AREA)\n",
    "                processed = unpad(processed, pad_locs)\n",
    "                \n",
    "                # Change dtype \n",
    "                processed = processed.astype(np.uint8)\n",
    "                \n",
    "                assert patch.shape[:2] == processed.shape, \"Wrong shape!\"\n",
    "                assert patch.dtype == processed.dtype, \"Wrong data type in prediction!\"\n",
    "\n",
    "            else:\n",
    "\n",
    "                \n",
    "                # Infer\n",
    "                processed = predict(patch)\n",
    "                \n",
    "                # Change dtype\n",
    "                processed = processed.astype(np.uint8)\n",
    "\n",
    "                #print(patch.dtype, processed.dtype)\n",
    "                \n",
    "\n",
    "                assert patch.shape[:2] == processed.shape, \"Wrong shape!\"\n",
    "                assert patch.dtype == processed.dtype, \"Wrong data type in prediction!\"\n",
    "\n",
    "\n",
    "            # Add in image variable\n",
    "            pred[y:y + 96, x:x + 96] = processed \n",
    "            processed = None\n",
    "\n",
    "    return pred\n"
   ]
  },
  {
   "cell_type": "markdown",
   "metadata": {},
   "source": [
    "### Save predcition in required format"
   ]
  },
  {
   "cell_type": "code",
   "execution_count": 5,
   "metadata": {},
   "outputs": [
    {
     "name": "stderr",
     "output_type": "stream",
     "text": [
      "  0%|          | 0/25 [00:00<?, ?it/s]"
     ]
    },
    {
     "name": "stdout",
     "output_type": "stream",
     "text": [
      "Patient ID ----------------------> :  TCGA-2Z-A9JG-01Z-00-DX1\n",
      "['TCGA-2Z-A9JG-01Z-00-DX1_1', 'TCGA-2Z-A9JG-01Z-00-DX1_2', 'TCGA-2Z-A9JG-01Z-00-DX1_3', 'TCGA-2Z-A9JG-01Z-00-DX1_4', 'TCGA-2Z-A9JG-01Z-00-DX1_5', 'TCGA-2Z-A9JG-01Z-00-DX1_6']\n",
      "Patient image:  TCGA-2Z-A9JG-01Z-00-DX1_1\n",
      "Patient image:  TCGA-2Z-A9JG-01Z-00-DX1_2\n",
      "Patient image:  TCGA-2Z-A9JG-01Z-00-DX1_3\n",
      "Patient image:  TCGA-2Z-A9JG-01Z-00-DX1_4\n",
      "Patient image:  TCGA-2Z-A9JG-01Z-00-DX1_5\n",
      "Patient image:  TCGA-2Z-A9JG-01Z-00-DX1_6\n"
     ]
    },
    {
     "name": "stderr",
     "output_type": "stream",
     "text": [
      "  4%|▍         | 1/25 [00:08<03:17,  8.25s/it]"
     ]
    },
    {
     "name": "stdout",
     "output_type": "stream",
     "text": [
      "Patient ID ----------------------> :  TCGA-2Z-A9JN-01Z-00-DX1\n",
      "['TCGA-2Z-A9JN-01Z-00-DX1_1', 'TCGA-2Z-A9JN-01Z-00-DX1_2', 'TCGA-2Z-A9JN-01Z-00-DX1_3', 'TCGA-2Z-A9JN-01Z-00-DX1_4']\n",
      "Patient image:  TCGA-2Z-A9JN-01Z-00-DX1_1\n",
      "Patient image:  TCGA-2Z-A9JN-01Z-00-DX1_2\n",
      "Patient image:  TCGA-2Z-A9JN-01Z-00-DX1_3\n",
      "Patient image:  TCGA-2Z-A9JN-01Z-00-DX1_4\n"
     ]
    },
    {
     "name": "stderr",
     "output_type": "stream",
     "text": [
      "  8%|▊         | 2/25 [00:20<03:38,  9.52s/it]"
     ]
    },
    {
     "name": "stdout",
     "output_type": "stream",
     "text": [
      "Patient ID ----------------------> :  TCGA-49-6743-01Z-00-DX2\n",
      "['TCGA-49-6743-01Z-00-DX2_001', 'TCGA-49-6743-01Z-00-DX2_002', 'TCGA-49-6743-01Z-00-DX2_003', 'TCGA-49-6743-01Z-00-DX2_004', 'TCGA-49-6743-01Z-00-DX2_005']\n",
      "Patient image:  TCGA-49-6743-01Z-00-DX2_001\n",
      "Patient image:  TCGA-49-6743-01Z-00-DX2_002\n",
      "Patient image:  TCGA-49-6743-01Z-00-DX2_003\n",
      "Patient image:  TCGA-49-6743-01Z-00-DX2_004\n",
      "Patient image:  TCGA-49-6743-01Z-00-DX2_005\n"
     ]
    },
    {
     "name": "stderr",
     "output_type": "stream",
     "text": [
      " 12%|█▏        | 3/25 [00:33<03:48, 10.41s/it]"
     ]
    },
    {
     "name": "stdout",
     "output_type": "stream",
     "text": [
      "Patient ID ----------------------> :  TCGA-50-6591-01Z-00-DX1\n",
      "['TCGA-50-6591-01Z-00-DX1_001']\n",
      "Patient image:  TCGA-50-6591-01Z-00-DX1_001\n"
     ]
    },
    {
     "name": "stderr",
     "output_type": "stream",
     "text": [
      " 16%|█▌        | 4/25 [00:36<02:55,  8.35s/it]"
     ]
    },
    {
     "name": "stdout",
     "output_type": "stream",
     "text": [
      "Patient ID ----------------------> :  TCGA-55-7570-01Z-00-DX1\n",
      "['TCGA-55-7570-01Z-00-DX1_001', 'TCGA-55-7570-01Z-00-DX1_002']\n",
      "Patient image:  TCGA-55-7570-01Z-00-DX1_001\n"
     ]
    },
    {
     "name": "stderr",
     "output_type": "stream",
     "text": [
      " 20%|██        | 5/25 [00:38<02:05,  6.26s/it]"
     ]
    },
    {
     "name": "stdout",
     "output_type": "stream",
     "text": [
      "Patient image:  TCGA-55-7570-01Z-00-DX1_002\n",
      "Patient ID ----------------------> :  TCGA-55-7573-01Z-00-DX1\n",
      "['TCGA-55-7573-01Z-00-DX1_001', 'TCGA-55-7573-01Z-00-DX1_002', 'TCGA-55-7573-01Z-00-DX1_003', 'TCGA-55-7573-01Z-00-DX1_004']\n",
      "Patient image:  TCGA-55-7573-01Z-00-DX1_001\n",
      "Patient image:  TCGA-55-7573-01Z-00-DX1_002\n",
      "Patient image:  TCGA-55-7573-01Z-00-DX1_003\n",
      "Patient image:  TCGA-55-7573-01Z-00-DX1_004\n"
     ]
    },
    {
     "name": "stderr",
     "output_type": "stream",
     "text": [
      " 24%|██▍       | 6/25 [00:46<02:09,  6.79s/it]"
     ]
    },
    {
     "name": "stdout",
     "output_type": "stream",
     "text": [
      "Patient ID ----------------------> :  TCGA-73-4662-01Z-00-DX1\n",
      "['TCGA-73-4662-01Z-00-DX1_001', 'TCGA-73-4662-01Z-00-DX1_002', 'TCGA-73-4662-01Z-00-DX1_003']\n",
      "Patient image:  TCGA-73-4662-01Z-00-DX1_001\n",
      "Patient image:  TCGA-73-4662-01Z-00-DX1_002\n",
      "Patient image:  TCGA-73-4662-01Z-00-DX1_003\n"
     ]
    },
    {
     "name": "stderr",
     "output_type": "stream",
     "text": [
      " 28%|██▊       | 7/25 [00:53<02:06,  7.04s/it]"
     ]
    },
    {
     "name": "stdout",
     "output_type": "stream",
     "text": [
      "Patient ID ----------------------> :  TCGA-78-7152-01Z-00-DX1\n",
      "['TCGA-78-7152-01Z-00-DX1_001', 'TCGA-78-7152-01Z-00-DX1_002']\n",
      "Patient image:  TCGA-78-7152-01Z-00-DX1_001\n"
     ]
    },
    {
     "name": "stderr",
     "output_type": "stream",
     "text": [
      " 32%|███▏      | 8/25 [00:54<01:27,  5.14s/it]"
     ]
    },
    {
     "name": "stdout",
     "output_type": "stream",
     "text": [
      "Patient image:  TCGA-78-7152-01Z-00-DX1_002\n",
      "Patient ID ----------------------> :  TCGA-A2-A04X-01Z-00-DX1\n",
      "['TCGA-A2-A04X-01Z-00-DX1_001', 'TCGA-A2-A04X-01Z-00-DX1_002', 'TCGA-A2-A04X-01Z-00-DX1_003', 'TCGA-A2-A04X-01Z-00-DX1_004']\n",
      "Patient image:  TCGA-A2-A04X-01Z-00-DX1_001\n",
      "Patient image:  TCGA-A2-A04X-01Z-00-DX1_002\n",
      "Patient image:  TCGA-A2-A04X-01Z-00-DX1_003\n",
      "Patient image:  TCGA-A2-A04X-01Z-00-DX1_004\n"
     ]
    },
    {
     "name": "stderr",
     "output_type": "stream",
     "text": [
      " 36%|███▌      | 9/25 [01:01<01:31,  5.73s/it]"
     ]
    },
    {
     "name": "stdout",
     "output_type": "stream",
     "text": [
      "Patient ID ----------------------> :  TCGA-A2-A0ES-01Z-00-DX1\n",
      "['TCGA-A2-A0ES-01Z-00-DX1_001', 'TCGA-A2-A0ES-01Z-00-DX1_002', 'TCGA-A2-A0ES-01Z-00-DX1_003', 'TCGA-A2-A0ES-01Z-00-DX1_004']\n",
      "Patient image:  TCGA-A2-A0ES-01Z-00-DX1_001\n",
      "Patient image:  TCGA-A2-A0ES-01Z-00-DX1_002\n",
      "Patient image:  TCGA-A2-A0ES-01Z-00-DX1_003\n",
      "Patient image:  TCGA-A2-A0ES-01Z-00-DX1_004\n"
     ]
    },
    {
     "name": "stderr",
     "output_type": "stream",
     "text": [
      " 40%|████      | 10/25 [01:06<01:20,  5.34s/it]"
     ]
    },
    {
     "name": "stdout",
     "output_type": "stream",
     "text": [
      "Patient ID ----------------------> :  TCGA-D8-A3Z6-01Z-00-DX2\n",
      "['TCGA-D8-A3Z6-01Z-00-DX2_001', 'TCGA-D8-A3Z6-01Z-00-DX2_002', 'TCGA-D8-A3Z6-01Z-00-DX2_003', 'TCGA-D8-A3Z6-01Z-00-DX2_004']\n",
      "Patient image:  TCGA-D8-A3Z6-01Z-00-DX2_001\n",
      "Patient image:  TCGA-D8-A3Z6-01Z-00-DX2_002\n",
      "Patient image:  TCGA-D8-A3Z6-01Z-00-DX2_003\n",
      "Patient image:  TCGA-D8-A3Z6-01Z-00-DX2_004\n"
     ]
    },
    {
     "name": "stderr",
     "output_type": "stream",
     "text": [
      " 44%|████▍     | 11/25 [01:11<01:17,  5.50s/it]"
     ]
    },
    {
     "name": "stdout",
     "output_type": "stream",
     "text": [
      "Patient ID ----------------------> :  TCGA-DW-7838-01Z-00-DX1\n",
      "['TCGA-DW-7838-01Z-00-DX1_1', 'TCGA-DW-7838-01Z-00-DX1_2', 'TCGA-DW-7838-01Z-00-DX1_3', 'TCGA-DW-7838-01Z-00-DX1_4', 'TCGA-DW-7838-01Z-00-DX1_5']\n",
      "Patient image:  TCGA-DW-7838-01Z-00-DX1_1\n",
      "Patient image:  TCGA-DW-7838-01Z-00-DX1_2\n",
      "Patient image:  TCGA-DW-7838-01Z-00-DX1_3\n",
      "Patient image:  TCGA-DW-7838-01Z-00-DX1_4\n",
      "Patient image:  TCGA-DW-7838-01Z-00-DX1_5\n"
     ]
    },
    {
     "name": "stderr",
     "output_type": "stream",
     "text": [
      " 48%|████▊     | 12/25 [01:16<01:08,  5.29s/it]"
     ]
    },
    {
     "name": "stdout",
     "output_type": "stream",
     "text": [
      "Patient ID ----------------------> :  TCGA-DW-7963-01Z-00-DX1\n",
      "['TCGA-DW-7963-01Z-00-DX1_1', 'TCGA-DW-7963-01Z-00-DX1_2', 'TCGA-DW-7963-01Z-00-DX1_3', 'TCGA-DW-7963-01Z-00-DX1_4', 'TCGA-DW-7963-01Z-00-DX1_5']\n",
      "Patient image:  TCGA-DW-7963-01Z-00-DX1_1\n",
      "Patient image:  TCGA-DW-7963-01Z-00-DX1_2\n",
      "Patient image:  TCGA-DW-7963-01Z-00-DX1_3\n",
      "Patient image:  TCGA-DW-7963-01Z-00-DX1_4\n",
      "Patient image:  TCGA-DW-7963-01Z-00-DX1_5\n"
     ]
    },
    {
     "name": "stderr",
     "output_type": "stream",
     "text": [
      " 52%|█████▏    | 13/25 [01:18<00:51,  4.26s/it]"
     ]
    },
    {
     "name": "stdout",
     "output_type": "stream",
     "text": [
      "Patient ID ----------------------> :  TCGA-E2-A108-01Z-00-DX1\n",
      "['TCGA-E2-A108-01Z-00-DX1_001', 'TCGA-E2-A108-01Z-00-DX1_002', 'TCGA-E2-A108-01Z-00-DX1_003', 'TCGA-E2-A108-01Z-00-DX1_004', 'TCGA-E2-A108-01Z-00-DX1_005']\n",
      "Patient image:  TCGA-E2-A108-01Z-00-DX1_001\n",
      "Patient image:  TCGA-E2-A108-01Z-00-DX1_002\n",
      "Patient image:  TCGA-E2-A108-01Z-00-DX1_003\n",
      "Patient image:  TCGA-E2-A108-01Z-00-DX1_004\n",
      "Patient image:  TCGA-E2-A108-01Z-00-DX1_005\n"
     ]
    },
    {
     "name": "stderr",
     "output_type": "stream",
     "text": [
      " 56%|█████▌    | 14/25 [01:24<00:53,  4.83s/it]"
     ]
    },
    {
     "name": "stdout",
     "output_type": "stream",
     "text": [
      "Patient ID ----------------------> :  TCGA-EW-A6SB-01Z-00-DX1\n",
      "['TCGA-EW-A6SB-01Z-00-DX1_001', 'TCGA-EW-A6SB-01Z-00-DX1_002', 'TCGA-EW-A6SB-01Z-00-DX1_003', 'TCGA-EW-A6SB-01Z-00-DX1_004', 'TCGA-EW-A6SB-01Z-00-DX1_005']\n",
      "Patient image:  TCGA-EW-A6SB-01Z-00-DX1_001\n",
      "Patient image:  TCGA-EW-A6SB-01Z-00-DX1_002\n",
      "Patient image:  TCGA-EW-A6SB-01Z-00-DX1_003\n",
      "Patient image:  TCGA-EW-A6SB-01Z-00-DX1_004\n",
      "Patient image:  TCGA-EW-A6SB-01Z-00-DX1_005\n"
     ]
    },
    {
     "name": "stderr",
     "output_type": "stream",
     "text": [
      " 60%|██████    | 15/25 [01:27<00:43,  4.31s/it]"
     ]
    },
    {
     "name": "stdout",
     "output_type": "stream",
     "text": [
      "Patient ID ----------------------> :  TCGA-F9-A8NY-01Z-00-DX1\n",
      "['TCGA-F9-A8NY-01Z-00-DX1_1', 'TCGA-F9-A8NY-01Z-00-DX1_2', 'TCGA-F9-A8NY-01Z-00-DX1_3', 'TCGA-F9-A8NY-01Z-00-DX1_4']\n",
      "Patient image:  TCGA-F9-A8NY-01Z-00-DX1_1\n",
      "Patient image:  TCGA-F9-A8NY-01Z-00-DX1_2\n",
      "Patient image:  TCGA-F9-A8NY-01Z-00-DX1_3\n"
     ]
    },
    {
     "name": "stderr",
     "output_type": "stream",
     "text": [
      " 64%|██████▍   | 16/25 [01:39<00:59,  6.57s/it]"
     ]
    },
    {
     "name": "stdout",
     "output_type": "stream",
     "text": [
      "Patient image:  TCGA-F9-A8NY-01Z-00-DX1_4\n",
      "Patient ID ----------------------> :  TCGA-G9-6356-01Z-00-DX1\n",
      "['TCGA-G9-6356-01Z-00-DX1_1', 'TCGA-G9-6356-01Z-00-DX1_3', 'TCGA-G9-6356-01Z-00-DX1_4', 'TCGA-G9-6356-01Z-00-DX1_5', 'TCGA-G9-6356-01Z-00-DX1_6']\n",
      "Patient image:  TCGA-G9-6356-01Z-00-DX1_1\n",
      "Patient image:  TCGA-G9-6356-01Z-00-DX1_3\n",
      "Patient image:  TCGA-G9-6356-01Z-00-DX1_4\n",
      "Patient image:  TCGA-G9-6356-01Z-00-DX1_5\n",
      "Patient image:  TCGA-G9-6356-01Z-00-DX1_6\n"
     ]
    },
    {
     "name": "stderr",
     "output_type": "stream",
     "text": [
      " 68%|██████▊   | 17/25 [01:46<00:53,  6.66s/it]"
     ]
    },
    {
     "name": "stdout",
     "output_type": "stream",
     "text": [
      "Patient ID ----------------------> :  TCGA-G9-6367-01Z-00-DX1\n",
      "['TCGA-G9-6367-01Z-00-DX1_1', 'TCGA-G9-6367-01Z-00-DX1_2', 'TCGA-G9-6367-01Z-00-DX1_3', 'TCGA-G9-6367-01Z-00-DX1_4', 'TCGA-G9-6367-01Z-00-DX1_5', 'TCGA-G9-6367-01Z-00-DX1_6', 'TCGA-G9-6367-01Z-00-DX1_7']\n",
      "Patient image:  TCGA-G9-6367-01Z-00-DX1_1\n",
      "Patient image:  TCGA-G9-6367-01Z-00-DX1_2\n",
      "Patient image:  TCGA-G9-6367-01Z-00-DX1_3\n",
      "Patient image:  TCGA-G9-6367-01Z-00-DX1_4\n",
      "Patient image:  TCGA-G9-6367-01Z-00-DX1_5\n",
      "Patient image:  TCGA-G9-6367-01Z-00-DX1_6\n",
      "Patient image:  TCGA-G9-6367-01Z-00-DX1_7\n"
     ]
    },
    {
     "name": "stderr",
     "output_type": "stream",
     "text": [
      " 72%|███████▏  | 18/25 [01:54<00:49,  7.14s/it]"
     ]
    },
    {
     "name": "stdout",
     "output_type": "stream",
     "text": [
      "Patient ID ----------------------> :  TCGA-IZ-A6M9-01Z-00-DX1\n",
      "['TCGA-IZ-A6M9-01Z-00-DX1_1', 'TCGA-IZ-A6M9-01Z-00-DX1_2', 'TCGA-IZ-A6M9-01Z-00-DX1_3']\n",
      "Patient image:  TCGA-IZ-A6M9-01Z-00-DX1_1\n",
      "Patient image:  TCGA-IZ-A6M9-01Z-00-DX1_2\n",
      "Patient image:  TCGA-IZ-A6M9-01Z-00-DX1_3\n"
     ]
    },
    {
     "name": "stderr",
     "output_type": "stream",
     "text": [
      " 76%|███████▌  | 19/25 [02:03<00:45,  7.55s/it]"
     ]
    },
    {
     "name": "stdout",
     "output_type": "stream",
     "text": [
      "Patient ID ----------------------> :  TCGA-MH-A55W-01Z-00-DX1\n",
      "['TCGA-MH-A55W-01Z-00-DX1_1', 'TCGA-MH-A55W-01Z-00-DX1_2', 'TCGA-MH-A55W-01Z-00-DX1_3', 'TCGA-MH-A55W-01Z-00-DX1_4']\n",
      "Patient image:  TCGA-MH-A55W-01Z-00-DX1_1\n",
      "Patient image:  TCGA-MH-A55W-01Z-00-DX1_2\n",
      "Patient image:  TCGA-MH-A55W-01Z-00-DX1_3\n",
      "Patient image:  TCGA-MH-A55W-01Z-00-DX1_4\n"
     ]
    },
    {
     "name": "stderr",
     "output_type": "stream",
     "text": [
      " 80%|████████  | 20/25 [02:03<00:26,  5.35s/it]"
     ]
    },
    {
     "name": "stdout",
     "output_type": "stream",
     "text": [
      "Patient ID ----------------------> :  TCGA-MP-A4T7-01Z-00-DX1\n",
      "['TCGA-MP-A4T7-01Z-00-DX1_001', 'TCGA-MP-A4T7-01Z-00-DX1_002', 'TCGA-MP-A4T7-01Z-00-DX1_003', 'TCGA-MP-A4T7-01Z-00-DX1_004', 'TCGA-MP-A4T7-01Z-00-DX1_005']\n",
      "Patient image:  TCGA-MP-A4T7-01Z-00-DX1_001\n",
      "Patient image:  TCGA-MP-A4T7-01Z-00-DX1_002\n",
      "Patient image:  TCGA-MP-A4T7-01Z-00-DX1_003\n",
      "Patient image:  TCGA-MP-A4T7-01Z-00-DX1_004\n",
      "Patient image:  TCGA-MP-A4T7-01Z-00-DX1_005\n"
     ]
    },
    {
     "name": "stderr",
     "output_type": "stream",
     "text": [
      " 84%|████████▍ | 21/25 [02:08<00:20,  5.23s/it]"
     ]
    },
    {
     "name": "stdout",
     "output_type": "stream",
     "text": [
      "Patient ID ----------------------> :  TCGA-VP-A87E-01Z-00-DX1\n",
      "['TCGA-VP-A87E-01Z-00-DX1_1', 'TCGA-VP-A87E-01Z-00-DX1_2', 'TCGA-VP-A87E-01Z-00-DX1_3', 'TCGA-VP-A87E-01Z-00-DX1_4', 'TCGA-VP-A87E-01Z-00-DX1_5']\n",
      "Patient image:  TCGA-VP-A87E-01Z-00-DX1_1\n",
      "Patient image:  TCGA-VP-A87E-01Z-00-DX1_2\n",
      "Patient image:  TCGA-VP-A87E-01Z-00-DX1_3\n",
      "Patient image:  TCGA-VP-A87E-01Z-00-DX1_4\n",
      "Patient image:  TCGA-VP-A87E-01Z-00-DX1_5\n"
     ]
    },
    {
     "name": "stderr",
     "output_type": "stream",
     "text": [
      " 88%|████████▊ | 22/25 [02:18<00:20,  6.70s/it]"
     ]
    },
    {
     "name": "stdout",
     "output_type": "stream",
     "text": [
      "Patient ID ----------------------> :  TCGA-VP-A87H-01Z-00-DX1\n",
      "['TCGA-VP-A87H-01Z-00-DX1_1', 'TCGA-VP-A87H-01Z-00-DX1_2', 'TCGA-VP-A87H-01Z-00-DX1_5', 'TCGA-VP-A87H-01Z-00-DX1_6']\n",
      "Patient image:  TCGA-VP-A87H-01Z-00-DX1_1\n",
      "Patient image:  TCGA-VP-A87H-01Z-00-DX1_2\n",
      "Patient image:  TCGA-VP-A87H-01Z-00-DX1_5\n",
      "Patient image:  TCGA-VP-A87H-01Z-00-DX1_6\n"
     ]
    },
    {
     "name": "stderr",
     "output_type": "stream",
     "text": [
      " 92%|█████████▏| 23/25 [02:27<00:14,  7.33s/it]"
     ]
    },
    {
     "name": "stdout",
     "output_type": "stream",
     "text": [
      "Patient ID ----------------------> :  TCGA-X4-A8KS-01Z-00-DX3\n",
      "['TCGA-X4-A8KS-01Z-00-DX3_1']\n",
      "Patient image:  TCGA-X4-A8KS-01Z-00-DX3_1\n"
     ]
    },
    {
     "name": "stderr",
     "output_type": "stream",
     "text": [
      " 96%|█████████▌| 24/25 [02:29<00:05,  5.66s/it]"
     ]
    },
    {
     "name": "stdout",
     "output_type": "stream",
     "text": [
      "Patient ID ----------------------> :  TCGA-YL-A9WL-01Z-00-DX1\n",
      "['TCGA-YL-A9WL-01Z-00-DX1_1', 'TCGA-YL-A9WL-01Z-00-DX1_2', 'TCGA-YL-A9WL-01Z-00-DX1_3', 'TCGA-YL-A9WL-01Z-00-DX1_4']\n",
      "Patient image:  TCGA-YL-A9WL-01Z-00-DX1_1\n",
      "Patient image:  TCGA-YL-A9WL-01Z-00-DX1_2\n",
      "Patient image:  TCGA-YL-A9WL-01Z-00-DX1_3\n",
      "Patient image:  TCGA-YL-A9WL-01Z-00-DX1_4\n"
     ]
    },
    {
     "name": "stderr",
     "output_type": "stream",
     "text": [
      "100%|██████████| 25/25 [02:32<00:00,  6.09s/it]\n"
     ]
    }
   ],
   "source": [
    "# label_map = {'Epithelial':1, 'Lymphocyte':2, 'Macrophage':4, 'Neutrophil':3, }\n",
    "\n",
    "# Read patient folders\n",
    "IMAGES_SUB_FOLDER = [os.path.join(IMAGES_FOLDER, i) for i in sorted(next(os.walk(IMAGES_FOLDER))[1])]\n",
    "\n",
    "\n",
    "# Test image path\n",
    "image_paths = []\n",
    "\n",
    "# Iterate over patient folders\n",
    "raw_ct = 0\n",
    "for ct in tqdm(range(len(IMAGES_SUB_FOLDER[:]))):\n",
    "    \n",
    "    #print(ct)\n",
    "    \n",
    "    # Read all raw images in patient sub folder\n",
    "    all_imgs = sorted(glob(IMAGES_SUB_FOLDER[ct] + '/*.tif'))\n",
    "    \n",
    "    # Get patient ID\n",
    "    #pn = IMAGES_SUB_FOLDER[ct].split('.')[0][-23:]\n",
    "    pn = IMAGES_SUB_FOLDER[ct].split('/')[-1]\n",
    "    \n",
    "    print(\"Patient ID ----------------------> : \", pn)\n",
    "    \n",
    "    # Create patient folder with ID\n",
    "    pn_folder = os.path.join(PRED_DEST, pn)\n",
    "    create_directory(pn_folder)\n",
    "    \n",
    "    # Get all images in the patient folder\n",
    "    paths = [s.split('/')[-1][:-4] for s in all_imgs]\n",
    "    \n",
    "    print(paths)\n",
    "    \n",
    "    \n",
    "    \n",
    "    # Iterate over the images of a patient\n",
    "    for i in range(len(all_imgs)):\n",
    "        \n",
    "        # Read patient image\n",
    "        image_paths.append(all_imgs[i])\n",
    "        img = read_nuclei(all_imgs[i])\n",
    "        \n",
    "        print(\"Patient image: \", paths[i])\n",
    "        \n",
    "        # Create sub folder -> each sub image for a patient\n",
    "        patient_sub_folder = os.path.join(pn_folder, paths[i])\n",
    "        create_directory(patient_sub_folder)\n",
    "        \n",
    "        # For each sub folder(sub image) make sub-sub folder for each cell type\n",
    "        epi_path = os.path.join(patient_sub_folder, \"Epithelial\")\n",
    "        lym_path = os.path.join(patient_sub_folder, \"Lymphocyte\")\n",
    "        neu_path = os.path.join(patient_sub_folder, \"Neutrophil\")\n",
    "        macro_path = os.path.join(patient_sub_folder, \"Macrophage\")\n",
    "        \n",
    "        # Creat sub-sub folders for each sub image\n",
    "        create_directory(epi_path)\n",
    "        create_directory(lym_path)\n",
    "        create_directory(neu_path)\n",
    "        create_directory(macro_path)\n",
    "        \n",
    "        \n",
    "        # Predict whole slide sub image of a patient\n",
    "        pred = whole_slide_predict(img)\n",
    "        \n",
    "        # Post processing to refine predictions\n",
    "        pred_filt = cv2.medianBlur(pred.astype(np.uint8), 5)\n",
    "\n",
    "        #print(img.shape, pred.shape)\n",
    "        #print(\"Uniques predicted\", np.unique(pred_filt))\n",
    "\n",
    "        # Make dummy mask\n",
    "        zero_mask = np.zeros((pred_filt.shape[0], pred_filt.shape[1])).astype(np.uint8)\n",
    "\n",
    "        # Overlay target class outputs\n",
    "        epi_mask = np.where(pred_filt != 1, zero_mask, 1)\n",
    "        lym_mask = np.where(pred_filt != 2, zero_mask, 2)\n",
    "        neu_mask = np.where(pred_filt != 3, zero_mask, 3)\n",
    "        macro_mask = np.where(pred_filt != 4, zero_mask, 4)\n",
    "        \n",
    "        # Save masks\n",
    "        # Check if last number of uniques is not zero, if it is not then save this mask.\n",
    "        # If it zero, it means the mask is empty, so skip this\n",
    "        if np.unique(epi_mask)[-1] != 0:\n",
    "                #np.save(\"{}/{}.npy\".format(epi_path, raw_ct), epi_mask)\n",
    "                sio.savemat(\"{}/{}.mat\".format(epi_path, raw_ct), {'epi_mask':epi_mask})\n",
    "        \n",
    "        raw_ct+=1\n",
    "\n",
    "        if np.unique(lym_mask)[-1] != 0:\n",
    "                #np.save(\"{}/{}.npy\".format(lym_path, raw_ct), lym_mask)\n",
    "                sio.savemat(\"{}/{}.mat\".format(lym_path, raw_ct), {'lym_mask':lym_mask})\n",
    "                \n",
    "        raw_ct+=1\n",
    "        \n",
    "        if np.unique(neu_mask)[-1] != 0:\n",
    "                #np.save(\"{}/{}.npy\".format(neu_path, raw_ct), neu_mask)\n",
    "                sio.savemat(\"{}/{}.mat\".format(neu_path, raw_ct), {'neu_mask':neu_mask})\n",
    "                \n",
    "        raw_ct+=1\n",
    "        \n",
    "        if np.unique(macro_mask)[-1] != 0:\n",
    "                #np.save(\"{}/{}.npy\".format(macro_path, raw_ct), macro_mask)\n",
    "                sio.savemat(\"{}/{}.mat\".format(macro_path, raw_ct), {'macro_mask':macro_mask})\n",
    "                \n",
    "        raw_ct+=1\n",
    "    "
   ]
  },
  {
   "cell_type": "markdown",
   "metadata": {},
   "source": [
    "### Run inference on a random single image for visualization purposes "
   ]
  },
  {
   "cell_type": "code",
   "execution_count": 7,
   "metadata": {},
   "outputs": [
    {
     "name": "stdout",
     "output_type": "stream",
     "text": [
      "Index:  16\n",
      "Image shape: (446, 512, 3)\n",
      "uint8\n",
      "(446, 512, 3) (446, 512)\n",
      "Uniques predicted [0 1 2]\n",
      "(446, 512) (446, 512) (446, 512) (446, 512)\n",
      "Epi mask uniques predicted [0 1]\n",
      "Lym mask uniques predicted [0 2]\n",
      "Neu mask uniques predicted [0]\n",
      "Macro mask uniques predicted [0]\n"
     ]
    },
    {
     "data": {
      "image/png": "[encoded data removed]",
      "text/plain": [
       "<Figure size 1296x1152 with 6 Axes>"
      ]
     },
     "metadata": {},
     "output_type": "display_data"
    }
   ],
   "source": [
    "idx = random.randrange(len(image_paths))\n",
    "print(\"Index: \",idx)\n",
    "\n",
    "# Read image\n",
    "image = read_nuclei(image_paths[-1])\n",
    "print(\"Image shape:\", image.shape)\n",
    "\n",
    "# Predict\n",
    "pred = whole_slide_predict(image)\n",
    "print(pred.dtype)\n",
    "\n",
    "# Post processing to refine predictions\n",
    "pred_filt = cv2.medianBlur(pred.astype(np.uint8), 5)\n",
    "\n",
    "print(image.shape, pred.shape)\n",
    "print(\"Uniques predicted\", np.unique(pred))\n",
    "\n",
    "# Dummy mask\n",
    "zero_mask = np.zeros((pred_filt.shape[0], pred_filt.shape[1])).astype(np.uint8)\n",
    "# Overlay target class\n",
    "epi_mask = np.where(pred_filt != 1, zero_mask, 1)\n",
    "lym_mask = np.where(pred_filt != 2, zero_mask, 2)\n",
    "neu_mask = np.where(pred_filt != 3, zero_mask, 3)\n",
    "macro_mask = np.where(pred_filt != 4, zero_mask, 4)\n",
    "\n",
    "# Get uniques for (debugging)\n",
    "print(epi_mask.shape, lym_mask.shape, neu_mask.shape, macro_mask.shape)\n",
    "print(\"Epi mask uniques predicted\", np.unique(epi_mask))\n",
    "print(\"Lym mask uniques predicted\", np.unique(lym_mask))\n",
    "print(\"Neu mask uniques predicted\", np.unique(neu_mask))\n",
    "print(\"Macro mask uniques predicted\", np.unique(macro_mask))\n",
    "      \n",
    "visualize(\n",
    "        image=image,\n",
    "        Filtered_mask = pred_filt,\n",
    "        Epi_mask = epi_mask,\n",
    "        Lym_mask = lym_mask,\n",
    "        Neu_mask = neu_mask,\n",
    "        Macro_mask = macro_mask)"
   ]
  },
  {
   "cell_type": "code",
   "execution_count": null,
   "metadata": {},
   "outputs": [],
   "source": [
    "print(\"Done!\")"
   ]
  },
  {
   "cell_type": "code",
   "execution_count": null,
   "metadata": {},
   "outputs": [],
   "source": []
  }
 ],
 "metadata": {
  "accelerator": "GPU",
  "colab": {
   "collapsed_sections": [],
   "name": "multiseg_camvid.ipynb",
   "provenance": []
  },
  "kernelspec": {
   "display_name": "Python 3",
   "language": "python",
   "name": "python3"
  },
  "language_info": {
   "codemirror_mode": {
    "name": "ipython",
    "version": 3
   },
   "file_extension": ".py",
   "mimetype": "text/x-python",
   "name": "python",
   "nbconvert_exporter": "python",
   "pygments_lexer": "ipython3",
   "version": "3.6.9"
  }
 },
 "nbformat": 4,
 "nbformat_minor": 4
}
